{
 "cells": [
  {
   "cell_type": "code",
   "execution_count": 4,
   "metadata": {},
   "outputs": [
    {
     "name": "stdout",
     "output_type": "stream",
     "text": [
      "pyAB Summary\n",
      "============\n",
      "\n",
      "Test Parameters\n",
      "_______________\n",
      "\n",
      "Variant A: Success Rate 0.1, Sample Size 1000\n",
      "Variant B: Success Rate 0.125, Sample Size 1000\n",
      "Type-I Error: 0.05, one_tailed test\n",
      "\n",
      "Test Results\n",
      "____________\n",
      "\n",
      "There is a statistically significant difference in proportions of two variants\n",
      "\n",
      "Test Stat: 1.769\n",
      "p-value: 0.038\n",
      "Type-II Error: 0.451\n"
     ]
    }
   ],
   "source": [
    "# import Frequentist class \n",
    "from pyab.experiments import ABTestFrequentist\n",
    "\n",
    "# provide significance rate and type of test\n",
    "ad_experiment = ABTestFrequentist(alpha=0.05, alt_hypothesis='one_tailed')\n",
    "\n",
    "# conduct experiment with two variants successes and trials, returns stat & pvalue\n",
    "stat, pvalue = ad_experiment.conduct_experiment(success_null=100, trials_null=1000, \n",
    "                                 success_alt=125, trials_alt=1000)"
   ]
  },
  {
   "cell_type": "code",
   "execution_count": null,
   "metadata": {},
   "outputs": [],
   "source": []
  }
 ],
 "metadata": {
  "kernelspec": {
   "display_name": "Python 3",
   "language": "python",
   "name": "python3"
  },
  "language_info": {
   "codemirror_mode": {
    "name": "ipython",
    "version": 3
   },
   "file_extension": ".py",
   "mimetype": "text/x-python",
   "name": "python",
   "nbconvert_exporter": "python",
   "pygments_lexer": "ipython3",
   "version": "3.7.1"
  }
 },
 "nbformat": 4,
 "nbformat_minor": 2
}
