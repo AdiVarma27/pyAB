{
 "cells": [
  {
   "cell_type": "code",
   "execution_count": null,
   "metadata": {},
   "outputs": [],
   "source": [
    "# import Frequentist class \n",
    "import numpy as np\n",
    "import scipy.stats as st\n",
    "import matplotlib.pyplot as plt\n",
    "import seaborn as sns\n",
    "from pyab.experiments import ABTestFrequentist, ABTestBayesian"
   ]
  },
  {
   "cell_type": "code",
   "execution_count": null,
   "metadata": {},
   "outputs": [],
   "source": [
    "# import Frequentist class\n",
    "from pyab.experiments import ABTestFrequentist\n",
    "\n",
    "# provide significance rate and type of test\n",
    "ad_experiment_freq = ABTestFrequentist(alpha=0.05, alt_hypothesis='one_tailed')\n",
    "\n",
    "# conduct experiment with two variants successes and trials, returns stat & pvalue\n",
    "stat, pvalue = ad_experiment_freq.conduct_experiment(success_null=100, trials_null=1000, \n",
    "                                 success_alt=125, trials_alt=1000)"
   ]
  },
  {
   "cell_type": "code",
   "execution_count": null,
   "metadata": {},
   "outputs": [],
   "source": [
    "# import Bayesian class\n",
    "from pyab.experiments import ABTestBayesian\n",
    "\n",
    "# provide beta priors\n",
    "ad_experiment_bayesian = ABTestBayesian(success_prior=120, trials_prior=1000)\n",
    "\n",
    "# conduct experiment with two variants successes and trials, along with uplift method and number of simulations\n",
    "ad_experiment_bayesian.conduct_experiment(success_null=100, trials_null=1000, \n",
    "                                          success_alt=125, trials_alt=1000, \n",
    "                                          uplift_method='uplift_ratio', num_simulations=1000)"
   ]
  }
 ],
 "metadata": {
  "kernelspec": {
   "display_name": "Python 3",
   "language": "python",
   "name": "python3"
  },
  "language_info": {
   "codemirror_mode": {
    "name": "ipython",
    "version": 3
   },
   "file_extension": ".py",
   "mimetype": "text/x-python",
   "name": "python",
   "nbconvert_exporter": "python",
   "pygments_lexer": "ipython3",
   "version": "3.7.1"
  }
 },
 "nbformat": 4,
 "nbformat_minor": 2
}
